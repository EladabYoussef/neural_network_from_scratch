{
 "cells": [
  {
   "cell_type": "markdown",
   "source": [
    "# import needed modules"
   ],
   "metadata": {
    "collapsed": false
   },
   "id": "a9dccbb08868bde7"
  },
  {
   "cell_type": "code",
   "execution_count": 163,
   "id": "initial_id",
   "metadata": {
    "collapsed": true,
    "ExecuteTime": {
     "end_time": "2024-09-17T17:30:37.427094500Z",
     "start_time": "2024-09-17T17:30:36.532095Z"
    }
   },
   "outputs": [],
   "source": [
    "import numpy as np\n",
    "import matplotlib.pyplot as plt\n",
    "import pandas as pd\n",
    "import tkinter as tk\n",
    "from PIL import Image, ImageDraw\n",
    "from scipy.ndimage import gaussian_filter"
   ]
  },
  {
   "cell_type": "markdown",
   "source": [
    "## i made the architecture of the neural network and the logistic regression with an object oriented approach to optimize readability, reusability, flexibility and scalability"
   ],
   "metadata": {
    "collapsed": false
   },
   "id": "9acda01c9f8ea217"
  },
  {
   "cell_type": "markdown",
   "source": [
    "## i made both logistic regression and neural network architectures so that users can compare their performance on different tasks"
   ],
   "metadata": {
    "collapsed": false
   },
   "id": "e40c1b2c06284dc0"
  },
  {
   "cell_type": "markdown",
   "source": [
    "### for the logistic regression class nothing is complicated it just implements prediction, cost computation, gradient of the cost, gradient descent, and some  visualisation. i just focussed on the quality of the design"
   ],
   "metadata": {
    "collapsed": false
   },
   "id": "e55f02de80f8382d"
  },
  {
   "cell_type": "code",
   "execution_count": 164,
   "outputs": [],
   "source": [
    "class logistic_regression_model:\n",
    "    def __init__(self, X, learning_rate= 0.1, reg_param= 1):\n",
    "        self.learning_rate= learning_rate\n",
    "        features_number = X.shape[1]\n",
    "        self.Weight = np.random.randn(features_number,1)\n",
    "        self.bias = np.random.randn(1)\n",
    "        self.reg_param = reg_param\n",
    "    \n",
    "    def sigmoid(self, z):\n",
    "        return  1 / (1 + np.exp(-z))\n",
    "    \n",
    "    def predict(self, X):\n",
    "        z = np.dot(X, self.Weight) + self.bias\n",
    "        a = self.sigmoid(z)\n",
    "        return a\n",
    "    \n",
    "    def compute_cost(self, X, y):\n",
    "        epsilon = 1e-15 #small constant to prevent log of 0\n",
    "        \n",
    "        examples_number = X.shape[0]\n",
    "        a = np.clip(self.predict(X), epsilon, 1 - epsilon)\n",
    "        loss = -(y * np.log(a) + (1 - y) * np.log(1 - a))\n",
    "        cost = loss.sum() / examples_number\n",
    "        return cost\n",
    "    \n",
    "    def compute_gradient(self, X, y):\n",
    "        examples_number = X.shape[0]\n",
    "        a = self.predict(X)\n",
    "        err = a - y\n",
    "        dcost_dW = np.dot(X.T, err) / examples_number + (self.reg_param / examples_number) * self.Weight\n",
    "        dcost_db = np.sum(err) / examples_number\n",
    "        return (dcost_dW, dcost_db)\n",
    "    \n",
    "    def gradient_descent(self, X, y, num_iters= 1000, plot_train_cost= False, plot_test_cost = False, X_test = None, y_test = None):\n",
    "        train_cost_hist = []\n",
    "        test_cost_hist = []\n",
    "        for i in range(num_iters):\n",
    "            dcost_dW, dcost_db = self.compute_gradient(X, y)\n",
    "            \n",
    "            self.Weight -= self.learning_rate * dcost_dW\n",
    "            self.bias -= self.learning_rate * dcost_db\n",
    "            \n",
    "            train_cost = self.compute_cost(X, y)\n",
    "            train_cost_hist.append(train_cost)\n",
    "            \n",
    "            if plot_test_cost :\n",
    "                test_cost = self.compute_cost(X_test,y_test)\n",
    "                test_cost_hist.append(test_cost)\n",
    "            \n",
    "        if(plot_train_cost):\n",
    "            plt.figure()\n",
    "            plt.plot(train_cost_hist, label= 'train_cost')\n",
    "            plt.title(\"cost history\")\n",
    "            plt.ylabel(\"cost\")\n",
    "            plt.xlabel(\"iterations\")\n",
    "        if(plot_test_cost):\n",
    "            plt.plot(test_cost_hist, label= 'test_cost')\n",
    "        if(plot_train_cost or plot_test_cost):\n",
    "            plt.legend(loc= 'upper right')\n",
    "            plt.show()\n",
    "        return train_cost_hist,test_cost_hist\n",
    "        \n",
    "    def score(self, X, y):\n",
    "        a = self.predict(X)\n",
    "        preds = a >= 0.5\n",
    "        score = (preds == y).mean()\n",
    "        return score"
   ],
   "metadata": {
    "collapsed": false,
    "ExecuteTime": {
     "end_time": "2024-09-17T17:30:37.907094900Z",
     "start_time": "2024-09-17T17:30:36.606100700Z"
    }
   },
   "id": "4bb773d1df542265"
  },
  {
   "cell_type": "markdown",
   "source": [
    "### the neural network architecture is implemented entirely from scratch, i delved into and implemented the mathematical formulas of for prop and especially back prop calculating the partial derivatives of the cost with respect to every parameter at each iteration and implementing that efficiently using linear algebra and matrix operations"
   ],
   "metadata": {
    "collapsed": false
   },
   "id": "9c7c73c5473c2d34"
  },
  {
   "cell_type": "markdown",
   "source": [
    "### unfortunately i can't make rigorous mathematical explanation here but i may plan to make a video or an article about it in the future and link it in the readme file, otherwise you should be able to understand the implementation if you are familiat with the mathematical formulas that are behind neural networks"
   ],
   "metadata": {
    "collapsed": false
   },
   "id": "6a757e0a64de954b"
  },
  {
   "cell_type": "markdown",
   "source": [
    "### also the neural network architecture is designed for a fully connected neural network"
   ],
   "metadata": {
    "collapsed": false
   },
   "id": "eceedbe4f37e66f3"
  },
  {
   "cell_type": "code",
   "execution_count": 165,
   "outputs": [],
   "source": [
    "class neural_network:\n",
    "    def __init__(self, layers):\n",
    "        self.layers_number = len(layers)\n",
    "        self.layers = {f\"W{i + 1}\": layers[i][0] for i in range(self.layers_number)}\n",
    "        self.layers.update({f\"b{i + 1}\": layers[i][1] for i in range(self.layers_number)})\n",
    "        self.layers.update({f\"activation{i + 1}\": self.choose_func(layers[i][2]) for i in range(self.layers_number)})\n",
    "        self.classes_count = self.layers[f\"b{self.layers_number}\"].shape[0]\n",
    "        self.cache = dict()\n",
    "\n",
    "    def choose_func(self, func):\n",
    "        if func == \"sigmoid\":\n",
    "            return {\"function\": self.sigmoid, \"derivative\": self.sigmoid_derivative}\n",
    "        elif func == \"relu\":\n",
    "            return {\"function\": self.relu, \"derivative\": self.relu_derivative}\n",
    "        elif func == \"softmax\":\n",
    "            return {\"function\": self.softmax, \"derivative\": self.softmax_derivative}\n",
    "        else:\n",
    "            raise Exception(\"invalid activation function!\")\n",
    "\n",
    "    def sigmoid(self, z):\n",
    "        return 1 / (1 + np.exp(-z))\n",
    "\n",
    "    def sigmoid_derivative(self, z):\n",
    "        sig = self.sigmoid(z)\n",
    "        return sig * (1 - sig)\n",
    "\n",
    "    def softmax(self, z):\n",
    "        z = z - np.max(z, axis=0, keepdims=True)  #avoiding large exponentials while keeping the deviation the same\n",
    "        return (np.exp(z) / np.sum(np.exp(z), axis=0, keepdims=True))\n",
    "\n",
    "    def softmax_derivative(self, z):\n",
    "        gamma = self.softmax(z)\n",
    "        return gamma * (1 - gamma)\n",
    "\n",
    "    def relu(self, z):\n",
    "        return np.maximum(0, z)\n",
    "\n",
    "    def relu_derivative(self, z):\n",
    "        return np.where(z > 0, 1, 0)\n",
    "\n",
    "    def one_hot(self, y):\n",
    "        y = y.astype(int)\n",
    "        m = y.shape[1]\n",
    "        one_hotted = np.zeros((self.classes_count, m))\n",
    "        one_hotted[y[0,:], np.arange(m)] = 1\n",
    "        return one_hotted\n",
    "\n",
    "    def forword_propagation(self, X):\n",
    "        A = X  #dim : (n(features),m)\n",
    "        self.cache[\"A0\"] = A\n",
    "        for i in range(self.layers_number):\n",
    "            W = self.layers[f\"W{i + 1}\"]  #dim : (n(curr layer), n(prev layer))\n",
    "            b = self.layers[f\"b{i + 1}\"]  #dim : (n(curr layer), 1)\n",
    "            Z = np.dot(W, A) + b  #dim : (n(curr layer), m)\n",
    "            act_func = self.layers[f\"activation{i + 1}\"][\"function\"]\n",
    "            A = act_func(Z)  #dim : (n(curr layer), m)\n",
    "\n",
    "            self.cache[f\"A{i + 1}\"] = A\n",
    "            self.cache[f\"Z{i + 1}\"] = Z\n",
    "\n",
    "        return self.cache[f\"A{self.layers_number}\"]\n",
    "\n",
    "    def back_propagation(self, X, y, reg_param, learning_rate):\n",
    "        samples_number = X.shape[1]\n",
    "        one_hotted_y = self.one_hot(y)\n",
    "        dz = self.cache[f\"A{self.layers_number}\"] - one_hotted_y  #(n(last layer), m)\n",
    "        for i in range(self.layers_number, 0, -1):\n",
    "            A = self.cache[f\"A{i - 1}\"]  #dims : (n(prev layer),m)\n",
    "\n",
    "            #calculating the derivatives\n",
    "            dcost_dW = (np.dot(dz,\n",
    "                               A.T) / samples_number)  #+ (reg_param / samples_number) * self.layers[f\"W{i}\"] #dims : (n(curr layer), n(prev layer))\n",
    "            dcost_db = np.sum(dz, axis=1, keepdims=True) / samples_number  #dims : (n(curr layer), 1)\n",
    "\n",
    "            #updating dz for the next iteration:\n",
    "            if i > 1:\n",
    "                Z = self.cache[f\"Z{i - 1}\"]\n",
    "                W = self.layers[f\"W{i}\"]\n",
    "                act_deriv = self.layers[f\"activation{i - 1}\"][\"derivative\"]\n",
    "                dz = np.dot(W.T, dz) * act_deriv(Z)\n",
    "\n",
    "            #updating the weights and biases\n",
    "            self.layers[f\"W{i}\"] -= learning_rate * dcost_dW  #updating the weights\n",
    "            self.layers[f\"b{i}\"] -= learning_rate * dcost_db  #updating the biases\n",
    "\n",
    "    def compute_cost(self, X, y, reg_param):\n",
    "        epsilon = 1e-15  #small constant to prevent log of 0\n",
    "        one_hotted_y = self.one_hot(y)\n",
    "        examples_number = X.shape[1]\n",
    "        self.forword_propagation(X)\n",
    "        a = np.clip(self.cache[f\"A{self.layers_number}\"], epsilon, 1 - epsilon)\n",
    "        loss = -np.log(a) * one_hotted_y\n",
    "        cost = loss.sum() / examples_number\n",
    "        # l2_reg_term = (reg_param / (2 * examples_number)) * sum([np.sum(np.square(self.layers[f\"W{i+1}\"])) for i in range(self.layers_number)])\n",
    "        # reg_cost = cost + l2_reg_term\n",
    "\n",
    "        return cost\n",
    "\n",
    "    def fit(self, X, y, reg_param=1, batch_size=32, epochs=1000, learning_rate=0.01):\n",
    "        m = X.shape[1]\n",
    "        cost_his = []\n",
    "        iterations = []\n",
    "        for epoch in range(epochs):\n",
    "            for batch in range((m) // batch_size):\n",
    "                start = batch * batch_size\n",
    "                end = start + batch_size\n",
    "\n",
    "                X_batch = X[:, start: end]\n",
    "                y_batch = y[:, start: end]\n",
    "\n",
    "                self.forword_propagation(X_batch)\n",
    "                self.back_propagation(X_batch, y_batch, reg_param, learning_rate)\n",
    "\n",
    "            if (m % batch_size) != 0:\n",
    "                start = m - (m % batch_size)\n",
    "                end = m\n",
    "\n",
    "                X_batch = X[:, start: end]\n",
    "                y_batch = y[:, start: end]\n",
    "\n",
    "                self.forword_propagation(X_batch)\n",
    "                self.back_propagation(X_batch, y_batch, reg_param, learning_rate)\n",
    "            if (epoch + 1) % (epochs // 10) == 0:\n",
    "                cost = self.compute_cost(X, y, reg_param)\n",
    "                cost_his.append(cost)\n",
    "                iterations.append(epoch + 1)\n",
    "                print(f\"epoch {epoch + 1}, cost: {cost:.4f}\")\n",
    "        plt.figure()\n",
    "        plt.plot(iterations, cost_his, label='train_cost')\n",
    "        plt.title(\"cost history\")\n",
    "        plt.ylabel(\"cost\")\n",
    "        plt.xlabel(\"iterations\")\n",
    "        plt.show()\n",
    "\n",
    "    def score(self, X, y):\n",
    "        self.forword_propagation(X)\n",
    "        a = self.cache[f\"A{self.layers_number}\"]\n",
    "        preds = (a >= 0.5).astype(int)\n",
    "        one_hotted_y = self.one_hot(y)\n",
    "        error = np.any(preds != one_hotted_y, axis=0).mean()\n",
    "        return 1 - error\n",
    "    def get_params_to_save(self):\n",
    "        params = []\n",
    "        for i in range(self.layers_number):\n",
    "            params.append([self.layers[f\"W{i+1}\"], self.layers[f\"b{i+1}\"], self.layers[f\"activation{i+1}\"][\"function\"].__name__])\n",
    "        return params\n"
   ],
   "metadata": {
    "collapsed": false,
    "ExecuteTime": {
     "end_time": "2024-09-17T17:30:38.210102200Z",
     "start_time": "2024-09-17T17:30:36.712108800Z"
    }
   },
   "id": "a4263d195c296a3c"
  },
  {
   "cell_type": "code",
   "execution_count": 166,
   "outputs": [],
   "source": [
    "def Dense(units, activation):\n",
    "    return [units, activation]"
   ],
   "metadata": {
    "collapsed": false,
    "ExecuteTime": {
     "end_time": "2024-09-17T17:30:38.291114Z",
     "start_time": "2024-09-17T17:30:36.753106200Z"
    }
   },
   "id": "5af634077c3fe15d"
  },
  {
   "cell_type": "code",
   "execution_count": 167,
   "outputs": [],
   "source": [
    "def make_layers(X,dense_layers):\n",
    "    np.random.seed(1)\n",
    "    n1 = X.shape[0]\n",
    "    \n",
    "    layers = []\n",
    "    for i in range(len(dense_layers)):\n",
    "        n2 = dense_layers[i][0]\n",
    "        W = np.random.randn(n2,n1)\n",
    "        b = np.random.randn(n2,1)\n",
    "        activation = dense_layers[i][1]\n",
    "        layers.append([W, b, activation])\n",
    "        \n",
    "        n1 = n2\n",
    "    return layers"
   ],
   "metadata": {
    "collapsed": false,
    "ExecuteTime": {
     "end_time": "2024-09-17T17:30:38.425112900Z",
     "start_time": "2024-09-17T17:30:36.773110200Z"
    }
   },
   "id": "3c094fb80fa24dbc"
  },
  {
   "cell_type": "markdown",
   "source": [
    "## after implementing the neural network. it is time to read and prepare the data  for the model, nothing is complicated here, the format of the data is also very easy to deal with as pandas has a built in function for reading from csv files"
   ],
   "metadata": {
    "collapsed": false
   },
   "id": "4664dfc86240e9bf"
  },
  {
   "cell_type": "code",
   "execution_count": 168,
   "outputs": [
    {
     "data": {
      "text/plain": "   label  1x1  1x2  1x3  1x4  1x5  1x6  1x7  1x8  1x9  ...  28x19  28x20  \\\n0      5    0    0    0    0    0    0    0    0    0  ...      0      0   \n1      0    0    0    0    0    0    0    0    0    0  ...      0      0   \n2      4    0    0    0    0    0    0    0    0    0  ...      0      0   \n3      1    0    0    0    0    0    0    0    0    0  ...      0      0   \n4      9    0    0    0    0    0    0    0    0    0  ...      0      0   \n\n   28x21  28x22  28x23  28x24  28x25  28x26  28x27  28x28  \n0      0      0      0      0      0      0      0      0  \n1      0      0      0      0      0      0      0      0  \n2      0      0      0      0      0      0      0      0  \n3      0      0      0      0      0      0      0      0  \n4      0      0      0      0      0      0      0      0  \n\n[5 rows x 785 columns]",
      "text/html": "<div>\n<style scoped>\n    .dataframe tbody tr th:only-of-type {\n        vertical-align: middle;\n    }\n\n    .dataframe tbody tr th {\n        vertical-align: top;\n    }\n\n    .dataframe thead th {\n        text-align: right;\n    }\n</style>\n<table border=\"1\" class=\"dataframe\">\n  <thead>\n    <tr style=\"text-align: right;\">\n      <th></th>\n      <th>label</th>\n      <th>1x1</th>\n      <th>1x2</th>\n      <th>1x3</th>\n      <th>1x4</th>\n      <th>1x5</th>\n      <th>1x6</th>\n      <th>1x7</th>\n      <th>1x8</th>\n      <th>1x9</th>\n      <th>...</th>\n      <th>28x19</th>\n      <th>28x20</th>\n      <th>28x21</th>\n      <th>28x22</th>\n      <th>28x23</th>\n      <th>28x24</th>\n      <th>28x25</th>\n      <th>28x26</th>\n      <th>28x27</th>\n      <th>28x28</th>\n    </tr>\n  </thead>\n  <tbody>\n    <tr>\n      <th>0</th>\n      <td>5</td>\n      <td>0</td>\n      <td>0</td>\n      <td>0</td>\n      <td>0</td>\n      <td>0</td>\n      <td>0</td>\n      <td>0</td>\n      <td>0</td>\n      <td>0</td>\n      <td>...</td>\n      <td>0</td>\n      <td>0</td>\n      <td>0</td>\n      <td>0</td>\n      <td>0</td>\n      <td>0</td>\n      <td>0</td>\n      <td>0</td>\n      <td>0</td>\n      <td>0</td>\n    </tr>\n    <tr>\n      <th>1</th>\n      <td>0</td>\n      <td>0</td>\n      <td>0</td>\n      <td>0</td>\n      <td>0</td>\n      <td>0</td>\n      <td>0</td>\n      <td>0</td>\n      <td>0</td>\n      <td>0</td>\n      <td>...</td>\n      <td>0</td>\n      <td>0</td>\n      <td>0</td>\n      <td>0</td>\n      <td>0</td>\n      <td>0</td>\n      <td>0</td>\n      <td>0</td>\n      <td>0</td>\n      <td>0</td>\n    </tr>\n    <tr>\n      <th>2</th>\n      <td>4</td>\n      <td>0</td>\n      <td>0</td>\n      <td>0</td>\n      <td>0</td>\n      <td>0</td>\n      <td>0</td>\n      <td>0</td>\n      <td>0</td>\n      <td>0</td>\n      <td>...</td>\n      <td>0</td>\n      <td>0</td>\n      <td>0</td>\n      <td>0</td>\n      <td>0</td>\n      <td>0</td>\n      <td>0</td>\n      <td>0</td>\n      <td>0</td>\n      <td>0</td>\n    </tr>\n    <tr>\n      <th>3</th>\n      <td>1</td>\n      <td>0</td>\n      <td>0</td>\n      <td>0</td>\n      <td>0</td>\n      <td>0</td>\n      <td>0</td>\n      <td>0</td>\n      <td>0</td>\n      <td>0</td>\n      <td>...</td>\n      <td>0</td>\n      <td>0</td>\n      <td>0</td>\n      <td>0</td>\n      <td>0</td>\n      <td>0</td>\n      <td>0</td>\n      <td>0</td>\n      <td>0</td>\n      <td>0</td>\n    </tr>\n    <tr>\n      <th>4</th>\n      <td>9</td>\n      <td>0</td>\n      <td>0</td>\n      <td>0</td>\n      <td>0</td>\n      <td>0</td>\n      <td>0</td>\n      <td>0</td>\n      <td>0</td>\n      <td>0</td>\n      <td>...</td>\n      <td>0</td>\n      <td>0</td>\n      <td>0</td>\n      <td>0</td>\n      <td>0</td>\n      <td>0</td>\n      <td>0</td>\n      <td>0</td>\n      <td>0</td>\n      <td>0</td>\n    </tr>\n  </tbody>\n</table>\n<p>5 rows × 785 columns</p>\n</div>"
     },
     "execution_count": 168,
     "metadata": {},
     "output_type": "execute_result"
    }
   ],
   "source": [
    "train_set = pd.read_csv(\"datasets/mnist_train.csv\")\n",
    "train_set.head()"
   ],
   "metadata": {
    "collapsed": false,
    "ExecuteTime": {
     "end_time": "2024-09-17T17:30:49.302757500Z",
     "start_time": "2024-09-17T17:30:36.807098200Z"
    }
   },
   "id": "82aed2a965d39115"
  },
  {
   "cell_type": "code",
   "execution_count": 169,
   "outputs": [
    {
     "data": {
      "text/plain": "              label      1x1      1x2      1x3      1x4      1x5      1x6  \\\ncount  60000.000000  60000.0  60000.0  60000.0  60000.0  60000.0  60000.0   \nmean       4.453933      0.0      0.0      0.0      0.0      0.0      0.0   \nstd        2.889270      0.0      0.0      0.0      0.0      0.0      0.0   \nmin        0.000000      0.0      0.0      0.0      0.0      0.0      0.0   \n25%        2.000000      0.0      0.0      0.0      0.0      0.0      0.0   \n50%        4.000000      0.0      0.0      0.0      0.0      0.0      0.0   \n75%        7.000000      0.0      0.0      0.0      0.0      0.0      0.0   \nmax        9.000000      0.0      0.0      0.0      0.0      0.0      0.0   \n\n           1x7      1x8      1x9  ...         28x19         28x20  \\\ncount  60000.0  60000.0  60000.0  ...  60000.000000  60000.000000   \nmean       0.0      0.0      0.0  ...      0.200433      0.088867   \nstd        0.0      0.0      0.0  ...      6.042472      3.956189   \nmin        0.0      0.0      0.0  ...      0.000000      0.000000   \n25%        0.0      0.0      0.0  ...      0.000000      0.000000   \n50%        0.0      0.0      0.0  ...      0.000000      0.000000   \n75%        0.0      0.0      0.0  ...      0.000000      0.000000   \nmax        0.0      0.0      0.0  ...    254.000000    254.000000   \n\n              28x21         28x22         28x23       28x24    28x25    28x26  \\\ncount  60000.000000  60000.000000  60000.000000  60000.0000  60000.0  60000.0   \nmean       0.045633      0.019283      0.015117      0.0020      0.0      0.0   \nstd        2.839845      1.686770      1.678283      0.3466      0.0      0.0   \nmin        0.000000      0.000000      0.000000      0.0000      0.0      0.0   \n25%        0.000000      0.000000      0.000000      0.0000      0.0      0.0   \n50%        0.000000      0.000000      0.000000      0.0000      0.0      0.0   \n75%        0.000000      0.000000      0.000000      0.0000      0.0      0.0   \nmax      253.000000    253.000000    254.000000     62.0000      0.0      0.0   \n\n         28x27    28x28  \ncount  60000.0  60000.0  \nmean       0.0      0.0  \nstd        0.0      0.0  \nmin        0.0      0.0  \n25%        0.0      0.0  \n50%        0.0      0.0  \n75%        0.0      0.0  \nmax        0.0      0.0  \n\n[8 rows x 785 columns]",
      "text/html": "<div>\n<style scoped>\n    .dataframe tbody tr th:only-of-type {\n        vertical-align: middle;\n    }\n\n    .dataframe tbody tr th {\n        vertical-align: top;\n    }\n\n    .dataframe thead th {\n        text-align: right;\n    }\n</style>\n<table border=\"1\" class=\"dataframe\">\n  <thead>\n    <tr style=\"text-align: right;\">\n      <th></th>\n      <th>label</th>\n      <th>1x1</th>\n      <th>1x2</th>\n      <th>1x3</th>\n      <th>1x4</th>\n      <th>1x5</th>\n      <th>1x6</th>\n      <th>1x7</th>\n      <th>1x8</th>\n      <th>1x9</th>\n      <th>...</th>\n      <th>28x19</th>\n      <th>28x20</th>\n      <th>28x21</th>\n      <th>28x22</th>\n      <th>28x23</th>\n      <th>28x24</th>\n      <th>28x25</th>\n      <th>28x26</th>\n      <th>28x27</th>\n      <th>28x28</th>\n    </tr>\n  </thead>\n  <tbody>\n    <tr>\n      <th>count</th>\n      <td>60000.000000</td>\n      <td>60000.0</td>\n      <td>60000.0</td>\n      <td>60000.0</td>\n      <td>60000.0</td>\n      <td>60000.0</td>\n      <td>60000.0</td>\n      <td>60000.0</td>\n      <td>60000.0</td>\n      <td>60000.0</td>\n      <td>...</td>\n      <td>60000.000000</td>\n      <td>60000.000000</td>\n      <td>60000.000000</td>\n      <td>60000.000000</td>\n      <td>60000.000000</td>\n      <td>60000.0000</td>\n      <td>60000.0</td>\n      <td>60000.0</td>\n      <td>60000.0</td>\n      <td>60000.0</td>\n    </tr>\n    <tr>\n      <th>mean</th>\n      <td>4.453933</td>\n      <td>0.0</td>\n      <td>0.0</td>\n      <td>0.0</td>\n      <td>0.0</td>\n      <td>0.0</td>\n      <td>0.0</td>\n      <td>0.0</td>\n      <td>0.0</td>\n      <td>0.0</td>\n      <td>...</td>\n      <td>0.200433</td>\n      <td>0.088867</td>\n      <td>0.045633</td>\n      <td>0.019283</td>\n      <td>0.015117</td>\n      <td>0.0020</td>\n      <td>0.0</td>\n      <td>0.0</td>\n      <td>0.0</td>\n      <td>0.0</td>\n    </tr>\n    <tr>\n      <th>std</th>\n      <td>2.889270</td>\n      <td>0.0</td>\n      <td>0.0</td>\n      <td>0.0</td>\n      <td>0.0</td>\n      <td>0.0</td>\n      <td>0.0</td>\n      <td>0.0</td>\n      <td>0.0</td>\n      <td>0.0</td>\n      <td>...</td>\n      <td>6.042472</td>\n      <td>3.956189</td>\n      <td>2.839845</td>\n      <td>1.686770</td>\n      <td>1.678283</td>\n      <td>0.3466</td>\n      <td>0.0</td>\n      <td>0.0</td>\n      <td>0.0</td>\n      <td>0.0</td>\n    </tr>\n    <tr>\n      <th>min</th>\n      <td>0.000000</td>\n      <td>0.0</td>\n      <td>0.0</td>\n      <td>0.0</td>\n      <td>0.0</td>\n      <td>0.0</td>\n      <td>0.0</td>\n      <td>0.0</td>\n      <td>0.0</td>\n      <td>0.0</td>\n      <td>...</td>\n      <td>0.000000</td>\n      <td>0.000000</td>\n      <td>0.000000</td>\n      <td>0.000000</td>\n      <td>0.000000</td>\n      <td>0.0000</td>\n      <td>0.0</td>\n      <td>0.0</td>\n      <td>0.0</td>\n      <td>0.0</td>\n    </tr>\n    <tr>\n      <th>25%</th>\n      <td>2.000000</td>\n      <td>0.0</td>\n      <td>0.0</td>\n      <td>0.0</td>\n      <td>0.0</td>\n      <td>0.0</td>\n      <td>0.0</td>\n      <td>0.0</td>\n      <td>0.0</td>\n      <td>0.0</td>\n      <td>...</td>\n      <td>0.000000</td>\n      <td>0.000000</td>\n      <td>0.000000</td>\n      <td>0.000000</td>\n      <td>0.000000</td>\n      <td>0.0000</td>\n      <td>0.0</td>\n      <td>0.0</td>\n      <td>0.0</td>\n      <td>0.0</td>\n    </tr>\n    <tr>\n      <th>50%</th>\n      <td>4.000000</td>\n      <td>0.0</td>\n      <td>0.0</td>\n      <td>0.0</td>\n      <td>0.0</td>\n      <td>0.0</td>\n      <td>0.0</td>\n      <td>0.0</td>\n      <td>0.0</td>\n      <td>0.0</td>\n      <td>...</td>\n      <td>0.000000</td>\n      <td>0.000000</td>\n      <td>0.000000</td>\n      <td>0.000000</td>\n      <td>0.000000</td>\n      <td>0.0000</td>\n      <td>0.0</td>\n      <td>0.0</td>\n      <td>0.0</td>\n      <td>0.0</td>\n    </tr>\n    <tr>\n      <th>75%</th>\n      <td>7.000000</td>\n      <td>0.0</td>\n      <td>0.0</td>\n      <td>0.0</td>\n      <td>0.0</td>\n      <td>0.0</td>\n      <td>0.0</td>\n      <td>0.0</td>\n      <td>0.0</td>\n      <td>0.0</td>\n      <td>...</td>\n      <td>0.000000</td>\n      <td>0.000000</td>\n      <td>0.000000</td>\n      <td>0.000000</td>\n      <td>0.000000</td>\n      <td>0.0000</td>\n      <td>0.0</td>\n      <td>0.0</td>\n      <td>0.0</td>\n      <td>0.0</td>\n    </tr>\n    <tr>\n      <th>max</th>\n      <td>9.000000</td>\n      <td>0.0</td>\n      <td>0.0</td>\n      <td>0.0</td>\n      <td>0.0</td>\n      <td>0.0</td>\n      <td>0.0</td>\n      <td>0.0</td>\n      <td>0.0</td>\n      <td>0.0</td>\n      <td>...</td>\n      <td>254.000000</td>\n      <td>254.000000</td>\n      <td>253.000000</td>\n      <td>253.000000</td>\n      <td>254.000000</td>\n      <td>62.0000</td>\n      <td>0.0</td>\n      <td>0.0</td>\n      <td>0.0</td>\n      <td>0.0</td>\n    </tr>\n  </tbody>\n</table>\n<p>8 rows × 785 columns</p>\n</div>"
     },
     "execution_count": 169,
     "metadata": {},
     "output_type": "execute_result"
    }
   ],
   "source": [
    "train_set.describe()"
   ],
   "metadata": {
    "collapsed": false,
    "ExecuteTime": {
     "end_time": "2024-09-17T17:31:00.828839300Z",
     "start_time": "2024-09-17T17:30:49.312781100Z"
    }
   },
   "id": "1e68a6e04360beb5"
  },
  {
   "cell_type": "markdown",
   "source": [
    "# just extracting the training dataset and and the test dataset and separating the features and the labels"
   ],
   "metadata": {
    "collapsed": false
   },
   "id": "50e9330bdde7ff40"
  },
  {
   "cell_type": "code",
   "execution_count": 170,
   "outputs": [
    {
     "data": {
      "text/plain": "(60000, 784)"
     },
     "execution_count": 170,
     "metadata": {},
     "output_type": "execute_result"
    }
   ],
   "source": [
    "X_train = train_set.drop(\"label\", axis= \"columns\").to_numpy().astype(float)\n",
    "X_train.shape"
   ],
   "metadata": {
    "collapsed": false,
    "ExecuteTime": {
     "end_time": "2024-09-17T17:31:06.634186600Z",
     "start_time": "2024-09-17T17:31:00.812849600Z"
    }
   },
   "id": "6534648633ca3bf9"
  },
  {
   "cell_type": "code",
   "execution_count": 171,
   "outputs": [
    {
     "data": {
      "text/plain": "dtype('float64')"
     },
     "execution_count": 171,
     "metadata": {},
     "output_type": "execute_result"
    }
   ],
   "source": [
    "X_train.dtype"
   ],
   "metadata": {
    "collapsed": false,
    "ExecuteTime": {
     "end_time": "2024-09-17T17:31:06.635203300Z",
     "start_time": "2024-09-17T17:31:06.544197700Z"
    }
   },
   "id": "f212165fe350e4dc"
  },
  {
   "cell_type": "code",
   "execution_count": 172,
   "outputs": [
    {
     "data": {
      "text/plain": "(60000,)"
     },
     "execution_count": 172,
     "metadata": {},
     "output_type": "execute_result"
    }
   ],
   "source": [
    "y_train = train_set.loc[:,\"label\"].to_numpy()\n",
    "y_train.shape"
   ],
   "metadata": {
    "collapsed": false,
    "ExecuteTime": {
     "end_time": "2024-09-17T17:31:06.637200900Z",
     "start_time": "2024-09-17T17:31:06.574189500Z"
    }
   },
   "id": "a7491252571b6da4"
  },
  {
   "cell_type": "code",
   "execution_count": 173,
   "outputs": [
    {
     "data": {
      "text/plain": "dtype('int64')"
     },
     "execution_count": 173,
     "metadata": {},
     "output_type": "execute_result"
    }
   ],
   "source": [
    "y_train.dtype"
   ],
   "metadata": {
    "collapsed": false,
    "ExecuteTime": {
     "end_time": "2024-09-17T17:31:06.721194600Z",
     "start_time": "2024-09-17T17:31:06.615194300Z"
    }
   },
   "id": "f2ef0333e484b022"
  },
  {
   "cell_type": "markdown",
   "source": [
    "## just adjusting the format and the shape of the data to be suitable for training the model"
   ],
   "metadata": {
    "collapsed": false
   },
   "id": "7b2c0caf40199df3"
  },
  {
   "cell_type": "code",
   "execution_count": 174,
   "outputs": [
    {
     "name": "stdout",
     "output_type": "stream",
     "text": [
      "[[5 0 4 ... 5 6 8]]\n"
     ]
    },
    {
     "data": {
      "text/plain": "(1, 60000)"
     },
     "execution_count": 174,
     "metadata": {},
     "output_type": "execute_result"
    }
   ],
   "source": [
    "X_train = X_train.T\n",
    "y_train = y_train.reshape((-1, 1)).T\n",
    "print(y_train)\n",
    "y_train.shape"
   ],
   "metadata": {
    "collapsed": false,
    "ExecuteTime": {
     "end_time": "2024-09-17T17:31:06.939185500Z",
     "start_time": "2024-09-17T17:31:06.656195700Z"
    }
   },
   "id": "e6606fc360105aff"
  },
  {
   "cell_type": "code",
   "execution_count": 175,
   "outputs": [
    {
     "name": "stdout",
     "output_type": "stream",
     "text": [
      "X_train.shape:  (784, 60000)\n",
      "y_train.shape: (1, 60000)\n"
     ]
    }
   ],
   "source": [
    "print(\"X_train.shape: \", X_train.shape)\n",
    "print(\"y_train.shape:\", y_train.shape)"
   ],
   "metadata": {
    "collapsed": false,
    "ExecuteTime": {
     "end_time": "2024-09-17T17:31:06.992185900Z",
     "start_time": "2024-09-17T17:31:06.703186600Z"
    }
   },
   "id": "e42a19d5eb070055"
  },
  {
   "cell_type": "code",
   "execution_count": 176,
   "outputs": [
    {
     "name": "stdout",
     "output_type": "stream",
     "text": [
      "X_test.shape:  (784, 10000)\n",
      "y_test.shape: (1, 10000)\n"
     ]
    }
   ],
   "source": [
    "test_data = pd.read_csv(\"datasets/mnist_test.csv\")\n",
    "X_test = test_data.drop(\"label\", axis= \"columns\").to_numpy().astype(float).T\n",
    "y_test = test_data.loc[:,\"label\"].to_numpy().reshape(-1, 1).T\n",
    "\n",
    "print(\"X_test.shape: \", X_test.shape)\n",
    "print(\"y_test.shape:\", y_test.shape)"
   ],
   "metadata": {
    "collapsed": false,
    "ExecuteTime": {
     "end_time": "2024-09-17T17:31:07.945578900Z",
     "start_time": "2024-09-17T17:31:06.729191800Z"
    }
   },
   "id": "82081427338b5130"
  },
  {
   "cell_type": "markdown",
   "source": [
    "## normalizing the data is too important to avoid very large values as the training and the cost computation includes exponentials which can lead overflow or other problems (note that exp(200) is a number that is larger than the number of atoms in the universe!)"
   ],
   "metadata": {
    "collapsed": false
   },
   "id": "b06523b923d82925"
  },
  {
   "cell_type": "code",
   "execution_count": 177,
   "outputs": [],
   "source": [
    "X_train = X_train / 255\n",
    "X_test = X_test / 255"
   ],
   "metadata": {
    "collapsed": false,
    "ExecuteTime": {
     "end_time": "2024-09-17T17:31:08.703275400Z",
     "start_time": "2024-09-17T17:31:07.930593700Z"
    }
   },
   "id": "208955670fa5f6d5"
  },
  {
   "cell_type": "code",
   "execution_count": 178,
   "outputs": [
    {
     "name": "stdout",
     "output_type": "stream",
     "text": [
      "max of X_train: 1.0\n",
      "minimum of X_train 0.0\n"
     ]
    }
   ],
   "source": [
    "print(\"max of X_train:\", np.max(X_train))\n",
    "print(\"minimum of X_train\", np.min(X_train))"
   ],
   "metadata": {
    "collapsed": false,
    "ExecuteTime": {
     "end_time": "2024-09-17T17:31:08.886270300Z",
     "start_time": "2024-09-17T17:31:08.707278400Z"
    }
   },
   "id": "4b7b38d22e946c26"
  },
  {
   "cell_type": "markdown",
   "source": [
    "# initialize parameters"
   ],
   "metadata": {
    "collapsed": false
   },
   "id": "c344d847ca1555a5"
  },
  {
   "cell_type": "code",
   "execution_count": 179,
   "outputs": [],
   "source": [
    "layers = make_layers(X_train, [Dense(16, \"relu\"),\n",
    "                               Dense(16, \"relu\"),\n",
    "                               Dense(10, \"softmax\")])"
   ],
   "metadata": {
    "collapsed": false,
    "ExecuteTime": {
     "end_time": "2024-09-17T17:31:08.921273100Z",
     "start_time": "2024-09-17T17:31:08.880279Z"
    }
   },
   "id": "588e0d5cb1e152e1"
  },
  {
   "cell_type": "markdown",
   "source": [
    "# create a neural network and initialize it with parameters"
   ],
   "metadata": {
    "collapsed": false
   },
   "id": "906aaf21e8d05c7b"
  },
  {
   "cell_type": "code",
   "execution_count": 180,
   "outputs": [],
   "source": [
    "model = neural_network(layers)"
   ],
   "metadata": {
    "collapsed": false,
    "ExecuteTime": {
     "end_time": "2024-09-17T17:31:08.999279900Z",
     "start_time": "2024-09-17T17:31:08.913282100Z"
    }
   },
   "id": "9d5b623958cdd4e3"
  },
  {
   "cell_type": "markdown",
   "source": [
    "# train the neural network"
   ],
   "metadata": {
    "collapsed": false
   },
   "id": "6a3d6f5f3049c11b"
  },
  {
   "cell_type": "code",
   "execution_count": 181,
   "outputs": [
    {
     "name": "stdout",
     "output_type": "stream",
     "text": [
      "epoch 100, cost: 0.3653\n",
      "epoch 200, cost: 0.2729\n",
      "epoch 300, cost: 0.2281\n",
      "epoch 400, cost: 0.2033\n",
      "epoch 500, cost: 0.1861\n",
      "epoch 600, cost: 0.1739\n",
      "epoch 700, cost: 0.1644\n",
      "epoch 800, cost: 0.1557\n",
      "epoch 900, cost: 0.1486\n",
      "epoch 1000, cost: 0.1427\n"
     ]
    },
    {
     "data": {
      "text/plain": "<Figure size 640x480 with 1 Axes>",
      "image/png": "[encoded data removed]"
     },
     "metadata": {},
     "output_type": "display_data"
    }
   ],
   "source": [
    "model.fit(X_train, y_train, learning_rate= 0.01, epochs= 1000)"
   ],
   "metadata": {
    "collapsed": false,
    "ExecuteTime": {
     "end_time": "2024-09-17T18:00:45.103049200Z",
     "start_time": "2024-09-17T17:31:08.947284200Z"
    }
   },
   "id": "2d354c213c348ffc"
  },
  {
   "cell_type": "markdown",
   "source": [
    "# evaluating the precistion of the model on the train and test set"
   ],
   "metadata": {
    "collapsed": false
   },
   "id": "261b26d7b768e2fb"
  },
  {
   "cell_type": "code",
   "execution_count": 182,
   "outputs": [
    {
     "data": {
      "text/plain": "np.float64(0.95235)"
     },
     "execution_count": 182,
     "metadata": {},
     "output_type": "execute_result"
    }
   ],
   "source": [
    "model.score(X_train, y_train)"
   ],
   "metadata": {
    "collapsed": false,
    "ExecuteTime": {
     "end_time": "2024-09-17T18:00:45.555509600Z",
     "start_time": "2024-09-17T18:00:45.101049700Z"
    }
   },
   "id": "6e87e0e113bcc8ea"
  },
  {
   "cell_type": "code",
   "execution_count": 183,
   "outputs": [
    {
     "data": {
      "text/plain": "np.float64(0.9398)"
     },
     "execution_count": 183,
     "metadata": {},
     "output_type": "execute_result"
    }
   ],
   "source": [
    "model.score(X_test, y_test)"
   ],
   "metadata": {
    "collapsed": false,
    "ExecuteTime": {
     "end_time": "2024-09-17T18:00:45.747380600Z",
     "start_time": "2024-09-17T18:00:45.539500800Z"
    }
   },
   "id": "d90f665e7ff3ef26"
  },
  {
   "cell_type": "markdown",
   "source": [
    "# making an interactive feature to take input from the user and output the prediction of the model on it"
   ],
   "metadata": {
    "collapsed": false
   },
   "id": "bdb117d86e84c457"
  },
  {
   "cell_type": "code",
   "execution_count": 191,
   "outputs": [],
   "source": [
    "class HandwrittenDigitApp:\n",
    "    def __init__(self):\n",
    "        self.window = tk.Tk()\n",
    "        self.window.title(\"Handwritten Digit Input\")\n",
    "\n",
    "        self.drawing_area = tk.Canvas(self.window, width=280, height=280, bg=\"white\")\n",
    "        self.drawing_area.pack()\n",
    "\n",
    "        self.drawing_area.bind('<B1-Motion>', self.draw_stroke)\n",
    "        self.drawing_area.bind('<ButtonRelease-1>', self.on_release)\n",
    "\n",
    "        self.sketch = Image.new(\"L\", (28, 28), \"white\")\n",
    "        self.sketch_drawer = ImageDraw.Draw(self.sketch)\n",
    "\n",
    "        self.done_button = tk.Button(self.window, text=\"Submit\", command=self.submit_sketch)\n",
    "        self.done_button.pack()\n",
    "\n",
    "        self.processed_digit = None\n",
    "\n",
    "    def draw_stroke(self, event):\n",
    "        x_start, y_start = event.x - 1, event.y - 1\n",
    "        x_end, y_end = event.x + 1, event.y + 1\n",
    "        self.drawing_area.create_oval(x_start, y_start, x_end, y_end, fill=\"black\", width=20)\n",
    "        self.sketch_drawer.line([x_start / 10, y_start / 10, x_end / 10, y_end / 10], fill=\"black\", width=2)\n",
    "\n",
    "    def submit_sketch(self):\n",
    "        img_array = np.array(self.sketch)\n",
    "        self.processed_digit = 1 - img_array.reshape(28, 28, 1) / 255.0 \n",
    "        np.save('digit_image.npy', img_array)\n",
    "        self.window.quit()\n",
    "\n",
    "def collect_digit():\n",
    "    app = HandwrittenDigitApp()\n",
    "    app.window.mainloop()\n",
    "    app.window.destroy()\n",
    "    return app.processed_digit\n",
    "\n",
    "def apply_gaussian_blur(img):\n",
    "    # Apply Gaussian blur with a sigma value for removing unnecessary data\n",
    "    return gaussian_filter(img, sigma=0.5)\n",
    "\n",
    "def collect_and_predict(model):\n",
    "    digit_image = collect_digit()\n",
    "    blurred_image = apply_gaussian_blur(digit_image)\n",
    "\n",
    "    reshaped_image = blurred_image.reshape(1, 784).T\n",
    "    print(\"Model Prediction:\", np.argmax(model.forword_propagation(reshaped_image)))\n",
    "\n",
    "    # Display the processed image\n",
    "    plt.imshow(reshaped_image.reshape((28, 28)), cmap='gray')\n",
    "    plt.show()\n"
   ],
   "metadata": {
    "collapsed": false,
    "ExecuteTime": {
     "end_time": "2024-09-17T18:03:05.005524900Z",
     "start_time": "2024-09-17T18:03:04.924176400Z"
    }
   },
   "id": "1fc4a880b004cc89"
  },
  {
   "cell_type": "code",
   "execution_count": 193,
   "outputs": [
    {
     "name": "stdout",
     "output_type": "stream",
     "text": [
      "Model Prediction: 2\n"
     ]
    },
    {
     "data": {
      "text/plain": "<Figure size 640x480 with 1 Axes>",
      "image/png": "[encoded data removed]"
     },
     "metadata": {},
     "output_type": "display_data"
    }
   ],
   "source": [
    "collect_and_predict(model)"
   ],
   "metadata": {
    "collapsed": false,
    "ExecuteTime": {
     "end_time": "2024-09-17T18:03:18.769231Z",
     "start_time": "2024-09-17T18:03:13.994263900Z"
    }
   },
   "id": "813fa8122954ae95"
  },
  {
   "cell_type": "markdown",
   "source": [],
   "metadata": {
    "collapsed": false
   },
   "id": "da7220ed301aaf38"
  },
  {
   "cell_type": "markdown",
   "source": [
    "# evaluating the model on the test set"
   ],
   "metadata": {
    "collapsed": false
   },
   "id": "f3c0f3556cdb442c"
  },
  {
   "cell_type": "code",
   "execution_count": 186,
   "outputs": [
    {
     "data": {
      "text/plain": "<Figure size 1600x1600 with 16 Axes>",
      "image/png": "[encoded data removed]"
     },
     "metadata": {},
     "output_type": "display_data"
    }
   ],
   "source": [
    "fig, ax = plt.subplots(4,4,figsize= (16,16))\n",
    "for i in range(4):\n",
    "    for j in range(4):\n",
    "        ax[i][j].imshow(X_test[:,4*i+j].reshape((28,28)), cmap= 'gray')\n",
    "        ax[i][j].set_title(np.argmax(model.forword_propagation(X_test[:,4*i+j].reshape((-1, 1)))))\n",
    "plt.show()"
   ],
   "metadata": {
    "collapsed": false,
    "ExecuteTime": {
     "end_time": "2024-09-17T18:01:22.275372500Z",
     "start_time": "2024-09-17T18:01:11.101189500Z"
    }
   },
   "id": "f797bd04fc46b07f"
  },
  {
   "cell_type": "markdown",
   "source": [
    "# saving the parameters into a text file"
   ],
   "metadata": {
    "collapsed": false
   },
   "id": "198fb05212df5d52"
  },
  {
   "cell_type": "code",
   "execution_count": 187,
   "outputs": [],
   "source": [
    "import json\n",
    "params_to_save = [[param.tolist() if isinstance(param, np.ndarray) else param for param in model.get_params_to_save()[i]] for i in range(model.layers_number)]\n",
    "with open(\"params.txt\", \"w\") as file:\n",
    "    json.dump(params_to_save, file)"
   ],
   "metadata": {
    "collapsed": false,
    "ExecuteTime": {
     "end_time": "2024-09-17T18:01:22.464370300Z",
     "start_time": "2024-09-17T18:01:22.265382200Z"
    }
   },
   "id": "a6b728c4ae1332be"
  },
  {
   "cell_type": "markdown",
   "source": [
    "# reading the saved parameters from the text file"
   ],
   "metadata": {
    "collapsed": false
   },
   "id": "a123a11cbe8a1c44"
  },
  {
   "cell_type": "code",
   "execution_count": 188,
   "outputs": [],
   "source": [
    "with open('params.txt', 'r') as file:\n",
    "    loaded_params = json.load(file)\n",
    "    new_params = [[np.array(param) if isinstance(param, list) else param for param in loaded_params[i]] for i in range(model.layers_number)]"
   ],
   "metadata": {
    "collapsed": false,
    "ExecuteTime": {
     "end_time": "2024-09-17T18:01:22.577489400Z",
     "start_time": "2024-09-17T18:01:22.380384800Z"
    }
   },
   "id": "e525810a3c01160a"
  }
 ],
 "metadata": {
  "kernelspec": {
   "display_name": "Python 3",
   "language": "python",
   "name": "python3"
  },
  "language_info": {
   "codemirror_mode": {
    "name": "ipython",
    "version": 2
   },
   "file_extension": ".py",
   "mimetype": "text/x-python",
   "name": "python",
   "nbconvert_exporter": "python",
   "pygments_lexer": "ipython2",
   "version": "2.7.6"
  }
 },
 "nbformat": 4,
 "nbformat_minor": 5
}
